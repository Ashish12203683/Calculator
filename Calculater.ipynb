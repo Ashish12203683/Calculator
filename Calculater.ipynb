{
 "cells": [
  {
   "cell_type": "code",
   "execution_count": 1,
   "id": "679c9e78-f571-4af1-a381-ee766842a14a",
   "metadata": {},
   "outputs": [],
   "source": [
    "import tkinter as tk\n",
    "\n",
    "# Function to evaluate the expression\n",
    "def evaluate_expression():\n",
    "    try:\n",
    "        result = eval(entry.get())\n",
    "        result_label.config(text=\"Result: \" + str(result))\n",
    "    except Exception as e:\n",
    "        result_label.config(text=\"Error\")\n",
    "\n",
    "# Create the main window\n",
    "root = tk.Tk()\n",
    "root.title(\"Calculator\")\n",
    "\n",
    "# Create an Entry widget for user input\n",
    "entry = tk.Entry(root, width=30)\n",
    "entry.grid(row=0, column=0, columnspan=4)\n",
    "\n",
    "# Create buttons for digits and operators\n",
    "buttons = [\n",
    "    '7', '8', '9', '/',\n",
    "    '4', '5', '6', '*',\n",
    "    '1', '2', '3', '-',\n",
    "    '0', '.', '=', '+'\n",
    "]\n",
    "\n",
    "row, col = 1, 0\n",
    "for button_text in buttons:\n",
    "    if button_text == '=':\n",
    "        tk.Button(root, text=button_text, padx=20, pady=20, command=evaluate_expression).grid(row=row, column=col)\n",
    "    else:\n",
    "        tk.Button(root, text=button_text, padx=20, pady=20, command=lambda x=button_text: entry.insert(tk.END, x)).grid(row=row, column=col)\n",
    "    col += 1\n",
    "    if col > 3:\n",
    "        col = 0\n",
    "        row += 1\n",
    "\n",
    "# Create a label to display the result\n",
    "result_label = tk.Label(root, text=\"Result: \")\n",
    "result_label.grid(row=row, column=0, columnspan=4)\n",
    "\n",
    "# Start the GUI main loop\n",
    "root.mainloop()\n"
   ]
  },
  {
   "cell_type": "code",
   "execution_count": null,
   "id": "d70a0382-6d66-4922-9618-04eb134341f5",
   "metadata": {},
   "outputs": [],
   "source": []
  }
 ],
 "metadata": {
  "kernelspec": {
   "display_name": "Python 3 (ipykernel)",
   "language": "python",
   "name": "python3"
  },
  "language_info": {
   "codemirror_mode": {
    "name": "ipython",
    "version": 3
   },
   "file_extension": ".py",
   "mimetype": "text/x-python",
   "name": "python",
   "nbconvert_exporter": "python",
   "pygments_lexer": "ipython3",
   "version": "3.11.3"
  }
 },
 "nbformat": 4,
 "nbformat_minor": 5
}
